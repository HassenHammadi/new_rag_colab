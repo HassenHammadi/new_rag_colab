{
 "cells": [
  {
   "cell_type": "markdown",
   "metadata": {},
   "source": [
    "# RAG System for Google Colab - Quick Start\n",
    "\n",
    "This notebook provides a quick start guide to using the RAG system in Google Colab with Google Drive integration."
   ]
  },
  {
   "cell_type": "markdown",
   "metadata": {},
   "source": [
    "## 1. Setup\n",
    "\n",
    "First, let's install the required packages:"
   ]
  },
  {
   "cell_type": "code",
   "execution_count": null,
   "metadata": {},
   "outputs": [],
   "source": [
    "!pip install faiss-cpu sentence-transformers transformers torch tqdm requests python-dotenv"
   ]
  },
  {
   "cell_type": "markdown",
   "metadata": {},
   "source": [
    "Now, let's clone the repository:"
   ]
  },
  {
   "cell_type": "code",
   "execution_count": null,
   "metadata": {},
   "outputs": [],
   "source": [
    "!git clone https://github.com/yourusername/new_rag_colab.git\n",
    "%cd new_rag_colab\n",
    "!pip install -e ."
   ]
  },
  {
   "cell_type": "markdown",
   "metadata": {},
   "source": [
    "## 2. Mount Google Drive"
   ]
  },
  {
   "cell_type": "code",
   "execution_count": null,
   "metadata": {},
   "outputs": [],
   "source": [
    "from new_rag_colab.utils.drive_utils import DriveHandler\n",
    "\n",
    "# Create a Drive handler and mount Google Drive\n",
    "drive_handler = DriveHandler()\n",
    "drive_handler.mount_drive()"
   ]
  },
  {
   "cell_type": "markdown",
   "metadata": {},
   "source": [
    "## 3. Create the RAG Pipeline"
   ]
  },
  {
   "cell_type": "code",
   "execution_count": null,
   "metadata": {},
   "outputs": [],
   "source": [
    "from new_rag_colab.processors.pdf_processor import PDFProcessor\n",
    "from new_rag_colab.processors.text_processor import TextProcessor\n",
    "from new_rag_colab.chunkers.base_chunker import FixedSizeChunker\n",
    "from new_rag_colab.utils.embeddings import HuggingFaceEmbeddingProvider\n",
    "from new_rag_colab.vector_stores.drive_vector_store import DriveVectorStore\n",
    "from new_rag_colab.retrievers.base_retriever import SimpleRetriever\n",
    "from new_rag_colab.utils.colab_rag_pipeline import ColabRAGPipeline\n",
    "\n",
    "# Create components\n",
    "embedding_provider = HuggingFaceEmbeddingProvider(model_name=\"sentence-transformers/all-MiniLM-L6-v2\")\n",
    "vector_store = DriveVectorStore(embedding_function=embedding_provider.get_embedding, dimension=384)\n",
    "chunker = FixedSizeChunker(chunk_size=1000, chunk_overlap=200)\n",
    "retriever = SimpleRetriever(vector_store)\n",
    "\n",
    "# Create processors\n",
    "processors = {\n",
    "    \"pdf\": PDFProcessor(),\n",
    "    \"text\": TextProcessor()\n",
    "}\n",
    "\n",
    "# Create the RAG pipeline\n",
    "rag_pipeline = ColabRAGPipeline(\n",
    "    chunker=chunker,\n",
    "    vector_store=vector_store,\n",
    "    retriever=retriever,\n",
    "    processors=processors,\n",
    "    drive_handler=drive_handler\n",
    ")"
   ]
  },
  {
   "cell_type": "markdown",
   "metadata": {},
   "source": [
    "## 4. Upload and Process Files"
   ]
  },
  {
   "cell_type": "code",
   "execution_count": null,
   "metadata": {},
   "outputs": [],
   "source": [
    "from google.colab import files\n",
    "\n",
    "# Upload files\n",
    "uploaded = files.upload()\n",
    "\n",
    "# Process uploaded files\n",
    "for filename in uploaded.keys():\n",
    "    print(f\"Processing {filename}...\")\n",
    "    doc_ids = rag_pipeline.process_file(filename)\n",
    "    print(f\"Added {len(doc_ids)} chunks from {filename}\")"
   ]
  },
  {
   "cell_type": "markdown",
   "metadata": {},
   "source": [
    "## 5. Save to Google Drive"
   ]
  },
  {
   "cell_type": "code",
   "execution_count": null,
   "metadata": {},
   "outputs": [],
   "source": [
    "import tempfile\n",
    "from pathlib import Path\n",
    "\n",
    "# Create a temporary directory\n",
    "temp_dir = tempfile.mkdtemp()\n",
    "vector_store_path = Path(temp_dir) / \"vector_store\"\n",
    "\n",
    "# Save the vector store\n",
    "rag_pipeline.save_vector_store(vector_store_path, drive_subfolder=\"quick_start_vector_store\")\n",
    "print(\"Vector store saved to Google Drive.\")"
   ]
  },
  {
   "cell_type": "markdown",
   "metadata": {},
   "source": [
    "## 6. Query the RAG System"
   ]
  },
  {
   "cell_type": "code",
   "execution_count": null,
   "metadata": {},
   "outputs": [],
   "source": [
    "# Function to query and display results\n",
    "def query_rag(query_text):\n",
    "    from IPython.display import Markdown\n",
    "    \n",
    "    print(f\"Query: {query_text}\")\n",
    "    markdown_response = rag_pipeline.query_with_markdown(query_text)\n",
    "    return Markdown(markdown_response.replace(\"```markdown\\n\", \"\").replace(\"\\n```\", \"\"))"
   ]
  },
  {
   "cell_type": "code",
   "execution_count": null,
   "metadata": {},
   "outputs": [],
   "source": [
    "# Try a query\n",
    "query_rag(\"What information can you find in my documents?\")"
   ]
  },
  {
   "cell_type": "markdown",
   "metadata": {},
   "source": [
    "## 7. Interactive Query Interface"
   ]
  },
  {
   "cell_type": "code",
   "execution_count": null,
   "metadata": {},
   "outputs": [],
   "source": [
    "from ipywidgets import widgets\n",
    "from IPython.display import display, clear_output\n",
    "\n",
    "# Create widgets\n",
    "query_input = widgets.Text(placeholder='Enter your query here', description='Query:', layout=widgets.Layout(width='80%'))\n",
    "submit_button = widgets.Button(description='Submit', button_style='primary')\n",
    "output = widgets.Output()\n",
    "\n",
    "# Define callback\n",
    "def on_submit(b):\n",
    "    with output:\n",
    "        clear_output()\n",
    "        if query_input.value.strip():\n",
    "            display(query_rag(query_input.value))\n",
    "        else:\n",
    "            print(\"Please enter a query.\")\n",
    "\n",
    "# Register callback\n",
    "submit_button.on_click(on_submit)\n",
    "\n",
    "# Display widgets\n",
    "display(widgets.HBox([query_input, submit_button]))\n",
    "display(output)"
   ]
  }
 ],
 "metadata": {
  "kernelspec": {
   "display_name": "Python 3",
   "language": "python",
   "name": "python3"
  },
  "language_info": {
   "codemirror_mode": {
    "name": "ipython",
    "version": 3
   },
   "file_extension": ".py",
   "mimetype": "text/x-python",
   "name": "python",
   "nbconvert_exporter": "python",
   "pygments_lexer": "ipython3",
   "version": "3.8.10"
  }
 },
 "nbformat": 4,
 "nbformat_minor": 4
}
